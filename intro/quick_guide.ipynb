{
 "cells": [
  {
   "cell_type": "code",
   "execution_count": 1,
   "metadata": {},
   "outputs": [],
   "source": [
    "import os\n",
    "import jax \n",
    "import numpy as np\n",
    "from jax import random\n",
    "import jax.numpy as jnp\n",
    "from jax import make_jaxpr\n",
    "from functools import partial\n",
    "from jax import grad, jit, vmap\n",
    "import matplotlib.pyplot as plt\n",
    "from jax.config import config\n",
    "from scipy.integrate import odeint\n",
    "config.update(\"jax_enable_x64\", True) # enable 64-bit precision\n",
    "config.update(\"jax_platform_name\", \"cpu\") # \"gpu\"  uncomment this line to run on CPU\n",
    "os.environ['XLA_FLAGS'] = '--xla_force_host_platform_device_count=8' "
   ]
  },
  {
   "cell_type": "code",
   "execution_count": 2,
   "metadata": {},
   "outputs": [],
   "source": [
    "USE_TPU = False\n",
    "if USE_TPU:\n",
    "    import jax.tools.colab_tpu\n",
    "    jax.tools.colab_tpu.setup_tpu()"
   ]
  },
  {
   "cell_type": "code",
   "execution_count": 3,
   "metadata": {},
   "outputs": [],
   "source": [
    "plt.rcParams['axes.labelsize'] = 16\n",
    "plt.rcParams['xtick.labelsize'] = 14\n",
    "plt.rcParams['ytick.labelsize'] = 14\n",
    "plt.rcParams['axes.xmargin'] = 0\n"
   ]
  },
  {
   "cell_type": "code",
   "execution_count": 4,
   "metadata": {},
   "outputs": [],
   "source": [
    "def whereis(x):\n",
    "    print(x.device_buffer.device())"
   ]
  },
  {
   "cell_type": "code",
   "execution_count": 5,
   "metadata": {},
   "outputs": [
    {
     "name": "stdout",
     "output_type": "stream",
     "text": [
      "TFRT_CPU_0\n"
     ]
    }
   ],
   "source": [
    "x = jnp.array([1, 2, 3])\n",
    "whereis(x)"
   ]
  },
  {
   "cell_type": "markdown",
   "metadata": {},
   "source": [
    "### [VMAP](https://jiayiwu.me/blog/2021/04/05/learning-about-jax-axes-in-vmap.html)\n",
    "\n",
    "- [YouTube](https://www.youtube.com/watch?v=W1vfBDFLm7Q)"
   ]
  },
  {
   "cell_type": "code",
   "execution_count": 6,
   "metadata": {},
   "outputs": [
    {
     "data": {
      "text/plain": [
       "(Array([[1, 3],\n",
       "        [2, 4]], dtype=int64),\n",
       " Array([[11,  3],\n",
       "        [12, 40]], dtype=int64))"
      ]
     },
     "execution_count": 6,
     "metadata": {},
     "output_type": "execute_result"
    }
   ],
   "source": [
    "a = jnp.array(([1, 3], [2, 4]))\n",
    "b = jnp.array(([11, 3], [12, 40]))\n",
    "a, b"
   ]
  },
  {
   "cell_type": "code",
   "execution_count": 7,
   "metadata": {},
   "outputs": [
    {
     "data": {
      "text/plain": [
       "Array([[12,  6],\n",
       "       [14, 44]], dtype=int64)"
      ]
     },
     "execution_count": 7,
     "metadata": {},
     "output_type": "execute_result"
    }
   ],
   "source": [
    "jnp.add(a, b)"
   ]
  },
  {
   "cell_type": "code",
   "execution_count": 8,
   "metadata": {},
   "outputs": [
    {
     "data": {
      "text/plain": [
       "Array([[12,  6],\n",
       "       [14, 44]], dtype=int64)"
      ]
     },
     "execution_count": 8,
     "metadata": {},
     "output_type": "execute_result"
    }
   ],
   "source": [
    "vmap(jnp.add, in_axes=(0,0), out_axes=0)(a, b)\n",
    "# row of a + corresponding row of b, then stack the results by rows\n",
    "# same as np.add(a, b)"
   ]
  },
  {
   "cell_type": "code",
   "execution_count": 9,
   "metadata": {},
   "outputs": [
    {
     "data": {
      "text/plain": [
       "Array([[12, 14],\n",
       "       [ 6, 44]], dtype=int64)"
      ]
     },
     "execution_count": 9,
     "metadata": {},
     "output_type": "execute_result"
    }
   ],
   "source": [
    "vmap(jnp.add, in_axes=(0,0), out_axes=1)(a, b)\n",
    "# row of a + corresponding row of b, then stack the results by columns\n",
    "# same as np.add(a, b).T"
   ]
  },
  {
   "cell_type": "code",
   "execution_count": 10,
   "metadata": {},
   "outputs": [
    {
     "data": {
      "text/plain": [
       "Array([[12, 15],\n",
       "       [ 5, 44]], dtype=int64)"
      ]
     },
     "execution_count": 10,
     "metadata": {},
     "output_type": "execute_result"
    }
   ],
   "source": [
    "vmap(jnp.add, in_axes=(0,1), out_axes=0)(a, b)\n",
    "# row of a + column of b, then stack the results by rows\n",
    "# same as np.add(a, b.T)"
   ]
  },
  {
   "cell_type": "code",
   "execution_count": 11,
   "metadata": {},
   "outputs": [
    {
     "data": {
      "text/plain": [
       "Array([[12,  5],\n",
       "       [15, 44]], dtype=int64)"
      ]
     },
     "execution_count": 11,
     "metadata": {},
     "output_type": "execute_result"
    }
   ],
   "source": [
    "vmap(jnp.add, in_axes=(0,1), out_axes=1)(a, b)\n",
    "# row of a + column of b, then stack the results by columns"
   ]
  },
  {
   "cell_type": "code",
   "execution_count": 12,
   "metadata": {},
   "outputs": [
    {
     "data": {
      "text/plain": [
       "Array([[12,  5],\n",
       "       [15, 44]], dtype=int64)"
      ]
     },
     "execution_count": 12,
     "metadata": {},
     "output_type": "execute_result"
    }
   ],
   "source": [
    "vmap(jnp.add, in_axes=(1,0), out_axes=0)(a, b)\n",
    "# column of a + row of b, then stack the results by rows\n",
    "# same as np.add(a.T, b)"
   ]
  },
  {
   "cell_type": "code",
   "execution_count": 13,
   "metadata": {},
   "outputs": [
    {
     "name": "stdout",
     "output_type": "stream",
     "text": [
      "[[10 11 12]\n",
      " [13 14 15]]\n",
      "2\n",
      "[[20 21 22]\n",
      " [23 24 25]]\n"
     ]
    },
    {
     "data": {
      "text/plain": [
       "{ \u001b[34m\u001b[22m\u001b[1mlambda \u001b[39m\u001b[22m\u001b[22m; a\u001b[35m:i64[2,3]\u001b[39m b\u001b[35m:i64[]\u001b[39m c\u001b[35m:i64[2,3]\u001b[39m. \u001b[34m\u001b[22m\u001b[1mlet\n",
       "    \u001b[39m\u001b[22m\u001b[22md\u001b[35m:i64[2,3]\u001b[39m = xla_call[\n",
       "      call_jaxpr={ \u001b[34m\u001b[22m\u001b[1mlambda \u001b[39m\u001b[22m\u001b[22m; e\u001b[35m:i64[2,3]\u001b[39m f\u001b[35m:i64[]\u001b[39m g\u001b[35m:i64[2,3]\u001b[39m. \u001b[34m\u001b[22m\u001b[1mlet\n",
       "          \u001b[39m\u001b[22m\u001b[22mh\u001b[35m:i64[]\u001b[39m = convert_element_type[new_dtype=int64 weak_type=False] f\n",
       "          i\u001b[35m:i64[2,3]\u001b[39m = add e h\n",
       "          j\u001b[35m:i64[2,3]\u001b[39m = add i g\n",
       "        \u001b[34m\u001b[22m\u001b[1min \u001b[39m\u001b[22m\u001b[22m(j,) }\n",
       "      name=f\n",
       "    ] a b c\n",
       "  \u001b[34m\u001b[22m\u001b[1min \u001b[39m\u001b[22m\u001b[22m(d,) }"
      ]
     },
     "execution_count": 13,
     "metadata": {},
     "output_type": "execute_result"
    }
   ],
   "source": [
    "a = np.arange(6).reshape(2, 3) + 10\n",
    "b = 2 \n",
    "c = np.arange(6).reshape(2, 3) + 20\n",
    "\n",
    "def f(a, b, c):\n",
    "    return a + b + c\n",
    "\n",
    "print(a, b, c, sep='\\n')\n",
    "\n",
    "v_f = jit(vmap(f, in_axes=(0, None, 0)))\n",
    "\n",
    "make_jaxpr(v_f)(a, b, c)"
   ]
  },
  {
   "cell_type": "code",
   "execution_count": 14,
   "metadata": {},
   "outputs": [
    {
     "data": {
      "text/plain": [
       "[CpuDevice(id=0),\n",
       " CpuDevice(id=1),\n",
       " CpuDevice(id=2),\n",
       " CpuDevice(id=3),\n",
       " CpuDevice(id=4),\n",
       " CpuDevice(id=5),\n",
       " CpuDevice(id=6),\n",
       " CpuDevice(id=7)]"
      ]
     },
     "execution_count": 14,
     "metadata": {},
     "output_type": "execute_result"
    }
   ],
   "source": [
    "jax.devices()"
   ]
  },
  {
   "cell_type": "code",
   "execution_count": 15,
   "metadata": {},
   "outputs": [
    {
     "data": {
      "text/plain": [
       "Array([[5.27834241, 5.42649338, 4.53975413],\n",
       "       [5.12853116, 5.2062678 , 4.79251556],\n",
       "       [5.04806234, 5.3456616 , 4.34332798],\n",
       "       [5.22036097, 4.24449012, 5.0497359 ],\n",
       "       [4.89529815, 5.02340113, 5.30752538],\n",
       "       [5.11011971, 4.65142249, 4.76652823],\n",
       "       [4.7130902 , 5.70628288, 4.85989081],\n",
       "       [4.77093606, 5.79740456, 5.79388623]], dtype=float64)"
      ]
     },
     "execution_count": 15,
     "metadata": {},
     "output_type": "execute_result"
    }
   ],
   "source": [
    "from jax import pmap \n",
    "\n",
    "p_f = pmap(f, in_axes=(0, None, 0))\n",
    "a = np.random.random(size=(8,3))\n",
    "b = 4\n",
    "c = np.random.random(size=(8,3))\n",
    "\n",
    "p_f(a, b, c)"
   ]
  },
  {
   "cell_type": "markdown",
   "metadata": {},
   "source": [
    "- composition"
   ]
  },
  {
   "cell_type": "code",
   "execution_count": 16,
   "metadata": {},
   "outputs": [
    {
     "data": {
      "text/plain": [
       "(2, 4)"
      ]
     },
     "execution_count": 16,
     "metadata": {},
     "output_type": "execute_result"
    }
   ],
   "source": [
    "def f(a, b, c):\n",
    "    return a @ b + c\n",
    "\n",
    "a = np.random.random(size=(2,3))\n",
    "b = np.random.random(size=(3,4))\n",
    "c = np.random.random(size=(2,4))\n",
    "\n",
    "f(a, b, c).shape"
   ]
  },
  {
   "cell_type": "code",
   "execution_count": 17,
   "metadata": {},
   "outputs": [
    {
     "data": {
      "text/plain": [
       "(5, 2, 4)"
      ]
     },
     "execution_count": 17,
     "metadata": {},
     "output_type": "execute_result"
    }
   ],
   "source": [
    "v_f = vmap(f)\n",
    "\n",
    "a = np.random.random(size=(5, 2, 3))\n",
    "b = np.random.random(size=(5, 3, 4))\n",
    "c = np.random.random(size=(5, 2, 4))\n",
    "\n",
    "v_f(a, b, c).shape"
   ]
  },
  {
   "cell_type": "code",
   "execution_count": 18,
   "metadata": {},
   "outputs": [
    {
     "data": {
      "text/plain": [
       "{ \u001b[34m\u001b[22m\u001b[1mlambda \u001b[39m\u001b[22m\u001b[22m; a\u001b[35m:f64[5,2,3]\u001b[39m b\u001b[35m:f64[5,3,4]\u001b[39m c\u001b[35m:f64[5,2,4]\u001b[39m. \u001b[34m\u001b[22m\u001b[1mlet\n",
       "    \u001b[39m\u001b[22m\u001b[22md\u001b[35m:f64[5,2,4]\u001b[39m = dot_general[\n",
       "      dimension_numbers=(((2,), (1,)), ((0,), (0,)))\n",
       "      precision=None\n",
       "      preferred_element_type=None\n",
       "    ] a b\n",
       "    e\u001b[35m:f64[5,2,4]\u001b[39m = add d c\n",
       "  \u001b[34m\u001b[22m\u001b[1min \u001b[39m\u001b[22m\u001b[22m(e,) }"
      ]
     },
     "execution_count": 18,
     "metadata": {},
     "output_type": "execute_result"
    }
   ],
   "source": [
    "make_jaxpr(v_f)(a, b, c)"
   ]
  },
  {
   "cell_type": "code",
   "execution_count": 19,
   "metadata": {},
   "outputs": [
    {
     "name": "stdout",
     "output_type": "stream",
     "text": [
      "(5, 2, 4)\n"
     ]
    },
    {
     "data": {
      "text/plain": [
       "{ \u001b[34m\u001b[22m\u001b[1mlambda \u001b[39m\u001b[22m\u001b[22m; a\u001b[35m:f64[5,2,3]\u001b[39m b\u001b[35m:f64[5,3,4]\u001b[39m c\u001b[35m:f64[5,2,4]\u001b[39m. \u001b[34m\u001b[22m\u001b[1mlet\n",
       "    \u001b[39m\u001b[22m\u001b[22md\u001b[35m:f64[5,2,4]\u001b[39m = xla_call[\n",
       "      call_jaxpr={ \u001b[34m\u001b[22m\u001b[1mlambda \u001b[39m\u001b[22m\u001b[22m; e\u001b[35m:f64[5,2,3]\u001b[39m f\u001b[35m:f64[5,3,4]\u001b[39m g\u001b[35m:f64[5,2,4]\u001b[39m. \u001b[34m\u001b[22m\u001b[1mlet\n",
       "          \u001b[39m\u001b[22m\u001b[22mh\u001b[35m:f64[5,2,4]\u001b[39m = dot_general[\n",
       "            dimension_numbers=(((2,), (1,)), ((0,), (0,)))\n",
       "            precision=None\n",
       "            preferred_element_type=None\n",
       "          ] e f\n",
       "          i\u001b[35m:f64[5,2,4]\u001b[39m = add h g\n",
       "        \u001b[34m\u001b[22m\u001b[1min \u001b[39m\u001b[22m\u001b[22m(i,) }\n",
       "      name=f\n",
       "    ] a b c\n",
       "  \u001b[34m\u001b[22m\u001b[1min \u001b[39m\u001b[22m\u001b[22m(d,) }"
      ]
     },
     "execution_count": 19,
     "metadata": {},
     "output_type": "execute_result"
    }
   ],
   "source": [
    "jv_f = jit(vmap(f))\n",
    "\n",
    "a = np.random.random(size=(5, 2, 3))\n",
    "b = np.random.random(size=(5, 3, 4))\n",
    "c = np.random.random(size=(5, 2, 4))\n",
    "\n",
    "print(v_f(a, b, c).shape)\n",
    "make_jaxpr(jv_f)(a, b, c)"
   ]
  },
  {
   "cell_type": "code",
   "execution_count": 20,
   "metadata": {},
   "outputs": [
    {
     "name": "stdout",
     "output_type": "stream",
     "text": [
      "(8, 5, 2, 4)\n"
     ]
    },
    {
     "data": {
      "text/plain": [
       "{ \u001b[34m\u001b[22m\u001b[1mlambda \u001b[39m\u001b[22m\u001b[22m; a\u001b[35m:f64[8,5,2,3]\u001b[39m b\u001b[35m:f64[8,5,3,4]\u001b[39m c\u001b[35m:f64[8,5,2,4]\u001b[39m. \u001b[34m\u001b[22m\u001b[1mlet\n",
       "    \u001b[39m\u001b[22m\u001b[22md\u001b[35m:f64[8,5,2,4]\u001b[39m = xla_pmap[\n",
       "      axis_name=<axis 0x7fefb028adc0>\n",
       "      axis_size=8\n",
       "      backend=None\n",
       "      call_jaxpr={ \u001b[34m\u001b[22m\u001b[1mlambda \u001b[39m\u001b[22m\u001b[22m; e\u001b[35m:f64[5,2,3]\u001b[39m f\u001b[35m:f64[5,3,4]\u001b[39m g\u001b[35m:f64[5,2,4]\u001b[39m. \u001b[34m\u001b[22m\u001b[1mlet\n",
       "          \u001b[39m\u001b[22m\u001b[22mh\u001b[35m:f64[5,2,4]\u001b[39m = dot_general[\n",
       "            dimension_numbers=(((2,), (1,)), ((0,), (0,)))\n",
       "            precision=None\n",
       "            preferred_element_type=None\n",
       "          ] e f\n",
       "          i\u001b[35m:f64[5,2,4]\u001b[39m = add h g\n",
       "        \u001b[34m\u001b[22m\u001b[1min \u001b[39m\u001b[22m\u001b[22m(i,) }\n",
       "      devices=None\n",
       "      donated_invars=(False, False, False)\n",
       "      global_arg_shapes=(None, None, None)\n",
       "      global_axis_size=None\n",
       "      in_axes=(0, 0, 0)\n",
       "      name=f\n",
       "      out_axes=(0,)\n",
       "    ] a b c\n",
       "  \u001b[34m\u001b[22m\u001b[1min \u001b[39m\u001b[22m\u001b[22m(d,) }"
      ]
     },
     "execution_count": 20,
     "metadata": {},
     "output_type": "execute_result"
    }
   ],
   "source": [
    "pv_f = pmap(v_f)\n",
    "\n",
    "a = np.random.random(size=(8, 5, 2, 3))\n",
    "b = np.random.random(size=(8, 5, 3, 4))\n",
    "c = np.random.random(size=(8, 5, 2, 4))\n",
    "\n",
    "print(v_f(a, b, c).shape)\n",
    "make_jaxpr(pv_f)(a, b, c)"
   ]
  },
  {
   "cell_type": "code",
   "execution_count": 21,
   "metadata": {},
   "outputs": [
    {
     "name": "stdout",
     "output_type": "stream",
     "text": [
      "[0.57450053 0.09968609 0.74196595]\n",
      "[0.57450053 0.09968609 0.74196595]\n"
     ]
    }
   ],
   "source": [
    "key = random.PRNGKey(0)\n",
    "print(jax.random.uniform(key, (3,)))\n",
    "print(jax.random.uniform(key, (3,)))"
   ]
  },
  {
   "cell_type": "markdown",
   "metadata": {},
   "source": [
    "- RANDOM"
   ]
  },
  {
   "cell_type": "code",
   "execution_count": 22,
   "metadata": {},
   "outputs": [
    {
     "name": "stdout",
     "output_type": "stream",
     "text": [
      "0.6773641507104642\n",
      "0.0482590299181076\n",
      "0.42465834799117474\n",
      "0.0919238766178283\n",
      "0.7752573371832019\n"
     ]
    }
   ],
   "source": [
    "key = jax.random.PRNGKey(124)\n",
    "for _ in range(5):\n",
    "    key, subkey = jax.random.split(key)\n",
    "    print(jax.random.uniform(subkey))\n"
   ]
  },
  {
   "cell_type": "code",
   "execution_count": null,
   "metadata": {},
   "outputs": [],
   "source": []
  }
 ],
 "metadata": {
  "kernelspec": {
   "display_name": "Python 3.8.13 ('adaptiv_sync')",
   "language": "python",
   "name": "python3"
  },
  "language_info": {
   "codemirror_mode": {
    "name": "ipython",
    "version": 3
   },
   "file_extension": ".py",
   "mimetype": "text/x-python",
   "name": "python",
   "nbconvert_exporter": "python",
   "pygments_lexer": "ipython3",
   "version": "3.8.13"
  },
  "orig_nbformat": 4,
  "vscode": {
   "interpreter": {
    "hash": "8126bcdcce999c63abd0862cb75989290bd292d4682c4523e3665b3904000a96"
   }
  }
 },
 "nbformat": 4,
 "nbformat_minor": 2
}
