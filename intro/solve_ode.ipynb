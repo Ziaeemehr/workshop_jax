{
 "cells": [
  {
   "cell_type": "code",
   "execution_count": 1,
   "metadata": {},
   "outputs": [],
   "source": [
    "import jax\n",
    "import tqdm\n",
    "import numpy as np \n",
    "from jax import lax \n",
    "import networkx as nx\n",
    "from jax import random\n",
    "from jax import make_jaxpr\n",
    "from jax import device_put\n",
    "from jax import numpy as jnp\n",
    "import matplotlib.pyplot as plt\n",
    "from jax import grad, jit, vmap, pmap \n"
   ]
  },
  {
   "cell_type": "code",
   "execution_count": 2,
   "metadata": {},
   "outputs": [],
   "source": [
    "plt.rcParams['xtick.labelsize'] = 14\n",
    "plt.rcParams['ytick.labelsize'] = 14\n",
    "plt.rcParams['axes.labelsize'] = 14\n",
    "plt.style.use('seaborn-whitegrid')"
   ]
  },
  {
   "cell_type": "code",
   "execution_count": 3,
   "metadata": {},
   "outputs": [],
   "source": [
    "def whereis(x):\n",
    "    # print the device of x\n",
    "    print(x.device_buffer.device())\n"
   ]
  },
  {
   "cell_type": "code",
   "execution_count": 4,
   "metadata": {},
   "outputs": [
    {
     "name": "stderr",
     "output_type": "stream",
     "text": [
      "100%|██████████| 25000/25000 [00:33<00:00, 744.00it/s] \n"
     ]
    }
   ],
   "source": [
    "seed = 2\n",
    "nn = 68\n",
    "dt = 0.01\n",
    "ns = 10_000\n",
    "nt = 25000\n",
    "\n",
    "key = random.PRNGKey(seed)\n",
    "SC = jax.random.normal(key, (nn, nn), dtype=np.float32)\n",
    "x = jax.random.normal(key, (nn, ns), dtype=np.float32)\n",
    "y = jax.random.normal(key, (nn, ns), dtype=np.float32)\n",
    "eta = jax.random.normal(key, (nn, ns), dtype=np.float32) + 1.01\n",
    "\n",
    "tau = 3.0\n",
    "rtau = 1.0 / tau\n",
    "\n",
    "xs = []\n",
    "\n",
    "def f(x, y, SC, eta, tau):\n",
    "    \n",
    "    rtau = 1.0 / tau\n",
    "    gx = jax.numpy.matmul(SC, x)\n",
    "    dx = tau * (x - x*x*x/3 +y)\n",
    "    dy = rtau * (eta - x + 1e-2 * gx)\n",
    "    return x + dt * dx, y + dt * dy\n",
    "\n",
    "f_jit = jit(f) # jit the function 4x faster\n",
    "\n",
    "for t in tqdm.trange(nt):\n",
    "    x, y = f_jit(x, y, SC, eta, tau)\n",
    "    if t % 100 == 0:\n",
    "        xs.append(x)"
   ]
  },
  {
   "cell_type": "code",
   "execution_count": 4,
   "metadata": {},
   "outputs": [],
   "source": [
    "def Kuramoto(x, t, coupling, omega, adj):\n",
    "\n",
    "    x_i, x_j = jax.numpy.meshgrid(x, x)\n",
    "    interactions = jax.numpy.matmul(adj, jnp.sin(x_j - x_i))  # Aij * sin(j-i)\n",
    "    dxdt = omega + coupling * interactions.sum(axis=0)  # sum over incoming interactions\n",
    "    return dxdt\n",
    "\n",
    "def order_parameter(theta):\n",
    "    # calculate the order parameter\n",
    "    N = theta.shape[1]\n",
    "    r = np.zeros(len(theta))\n",
    "    for i in range(len(theta)):\n",
    "        r[i] = abs(sum(np.exp(1j * theta[i,:]))) / N\n",
    "    return r"
   ]
  },
  {
   "cell_type": "code",
   "execution_count": 5,
   "metadata": {},
   "outputs": [
    {
     "name": "stderr",
     "output_type": "stream",
     "text": [
      "100%|██████████| 20000/20000 [00:10<00:00, 1835.55it/s]\n"
     ]
    }
   ],
   "source": [
    "# K = np.arange(0.0, 0.4, 0.01)   # coupling\n",
    "N = 3                           # number of nodes\n",
    "K = 1.0\n",
    "dt = 0.01                       # time step\n",
    "T = 200.0                       # simulation time\n",
    "T_trans = 100.0                 # transition time\n",
    "omega_0 = np.random.normal(0, 0.1, N)  # natural frequencies\n",
    "adj = nx.to_numpy_array(nx.complete_graph(N))  # adjacency matrix\n",
    "x = np.random.uniform(0, 2*np.pi, N)  # initial conditions\n",
    "\n",
    "x = device_put(x)\n",
    "adj = device_put(adj)\n",
    "omega = device_put(omega_0)\n",
    "\n",
    "Kuramoto_gpu = jit(Kuramoto, backend='gpu')\n",
    "\n",
    "xs = []\n",
    "for t in tqdm.trange(int(T/dt)):\n",
    "    x = x + Kuramoto_gpu(x, t, K, omega, adj) * dt\n",
    "    xs.append(x)\n",
    "xs = np.array(xs)\n",
    "r = order_parameter(xs)\n",
    "\n",
    "\n"
   ]
  },
  {
   "cell_type": "code",
   "execution_count": 6,
   "metadata": {},
   "outputs": [
    {
     "data": {
      "text/plain": [
       "[<matplotlib.lines.Line2D at 0x7fdfe40ca760>]"
      ]
     },
     "execution_count": 6,
     "metadata": {},
     "output_type": "execute_result"
    },
    {
     "data": {
      "image/png": "[encoded data removed]",
      "text/plain": [
       "<Figure size 432x288 with 1 Axes>"
      ]
     },
     "metadata": {},
     "output_type": "display_data"
    }
   ],
   "source": [
    "plt.plot(r)"
   ]
  },
  {
   "cell_type": "code",
   "execution_count": null,
   "metadata": {},
   "outputs": [],
   "source": []
  }
 ],
 "metadata": {
  "kernelspec": {
   "display_name": "Python 3.8.13 ('adaptiv_sync')",
   "language": "python",
   "name": "python3"
  },
  "language_info": {
   "codemirror_mode": {
    "name": "ipython",
    "version": 3
   },
   "file_extension": ".py",
   "mimetype": "text/x-python",
   "name": "python",
   "nbconvert_exporter": "python",
   "pygments_lexer": "ipython3",
   "version": "3.8.13"
  },
  "orig_nbformat": 4,
  "vscode": {
   "interpreter": {
    "hash": "8126bcdcce999c63abd0862cb75989290bd292d4682c4523e3665b3904000a96"
   }
  }
 },
 "nbformat": 4,
 "nbformat_minor": 2
}
